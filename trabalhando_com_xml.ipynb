{
  "nbformat": 4,
  "nbformat_minor": 0,
  "metadata": {
    "colab": {
      "name": "trabalhando_com_xml.ipynb",
      "provenance": [],
      "authorship_tag": "ABX9TyPNxQwf0swobeBWrozSTLsF",
      "include_colab_link": true
    },
    "kernelspec": {
      "name": "python3",
      "display_name": "Python 3"
    }
  },
  "cells": [
    {
      "cell_type": "markdown",
      "metadata": {
        "id": "view-in-github",
        "colab_type": "text"
      },
      "source": [
        "<a href=\"https://colab.research.google.com/github/Mlluiz39/Bootcamp_IGTI/blob/master/trabalhando_com_xml.ipynb\" target=\"_parent\"><img src=\"https://colab.research.google.com/assets/colab-badge.svg\" alt=\"Open In Colab\"/></a>"
      ]
    },
    {
      "cell_type": "code",
      "metadata": {
        "id": "GAy6b_gc8Gjo"
      },
      "source": [
        "from xml.dom import minidom\n",
        "nome_do_arquivo_xml='arquivo_xml.xml'\n",
        "documento_xml=minidom.parse(nome_do_arquivo_xml)"
      ],
      "execution_count": 1,
      "outputs": []
    },
    {
      "cell_type": "code",
      "metadata": {
        "id": "bS5Ig8f78s7-"
      },
      "source": [
        "documento_xml"
      ],
      "execution_count": null,
      "outputs": []
    },
    {
      "cell_type": "code",
      "metadata": {
        "id": "S8ykliqQ8wrR",
        "outputId": "a4023ce3-6c06-444a-d879-e4bf7556529f",
        "colab": {
          "base_uri": "https://localhost:8080/",
          "height": 34
        }
      },
      "source": [
        "#nos presentes no documento\n",
        "nos = documento_xml.documentElement\n",
        "print(nos.tagName)"
      ],
      "execution_count": 2,
      "outputs": [
        {
          "output_type": "stream",
          "text": [
            "data\n"
          ],
          "name": "stdout"
        }
      ]
    },
    {
      "cell_type": "code",
      "metadata": {
        "id": "qiNm_l-N9HF2",
        "outputId": "1f299b32-219d-42c3-8827-ecc6cd7f3d93",
        "colab": {
          "base_uri": "https://localhost:8080/",
          "height": 34
        }
      },
      "source": [
        "#extraindo elementos de um arquivo xml\n",
        "#cada elemento em um arwuivo xml tem um nome\n",
        "lista_de_compras = documento_xml.getElementsByTagName('item')\n",
        "type(lista_de_compras)"
      ],
      "execution_count": 3,
      "outputs": [
        {
          "output_type": "execute_result",
          "data": {
            "text/plain": [
              "xml.dom.minicompat.NodeList"
            ]
          },
          "metadata": {
            "tags": []
          },
          "execution_count": 3
        }
      ]
    },
    {
      "cell_type": "code",
      "metadata": {
        "id": "4qlJR8tW9uOJ",
        "outputId": "88999067-e675-43df-9539-e4b422111def",
        "colab": {
          "base_uri": "https://localhost:8080/",
          "height": 34
        }
      },
      "source": [
        "lista_de_compras[0]"
      ],
      "execution_count": 5,
      "outputs": [
        {
          "output_type": "execute_result",
          "data": {
            "text/plain": [
              "<DOM Element: item at 0x7fb7fc5e1898>"
            ]
          },
          "metadata": {
            "tags": []
          },
          "execution_count": 5
        }
      ]
    },
    {
      "cell_type": "code",
      "metadata": {
        "id": "-AS_R2Do91ST",
        "outputId": "63f73528-1dce-440f-ab8a-7d9b43b58d4f",
        "colab": {
          "base_uri": "https://localhost:8080/",
          "height": 102
        }
      },
      "source": [
        "#acessando os atributos de um arquivo\n",
        "for item in lista_de_compras:\n",
        "  print(item.attributes['name'].value)\n"
      ],
      "execution_count": 8,
      "outputs": [
        {
          "output_type": "stream",
          "text": [
            "item1\n",
            "item2\n",
            "item3\n",
            "item4\n",
            "item5\n"
          ],
          "name": "stdout"
        }
      ]
    },
    {
      "cell_type": "code",
      "metadata": {
        "id": "AzTWAkS2-kEP",
        "outputId": "af660ce5-3417-4b84-eea6-f33fb7476fe4",
        "colab": {
          "base_uri": "https://localhost:8080/",
          "height": 102
        }
      },
      "source": [
        "# Acessando os elementos de um arquivo\n",
        "for item in lista_de_compras:\n",
        "  print(item.firstChild.data)"
      ],
      "execution_count": 9,
      "outputs": [
        {
          "output_type": "stream",
          "text": [
            "Arroz\n",
            "Feijão\n",
            "Batata\n",
            "Molho de Tomate\n",
            "Macarrão\n"
          ],
          "name": "stdout"
        }
      ]
    }
  ]
}